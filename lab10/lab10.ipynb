{
 "cells": [
  {
   "cell_type": "code",
   "execution_count": 2,
   "metadata": {},
   "outputs": [
    {
     "data": {
      "text/plain": [
       "import org.apache.spark.sql.functions._\n",
       "import org.apache.spark.sql.{SparkSession, DataFrame}\n"
      ]
     },
     "execution_count": 2,
     "metadata": {},
     "output_type": "execute_result"
    }
   ],
   "source": [
    "import org.apache.spark.sql.functions._\n",
    "import org.apache.spark.sql.{SparkSession, DataFrame}"
   ]
  },
  {
   "attachments": {},
   "cell_type": "markdown",
   "metadata": {},
   "source": [
    "Запуск сессии"
   ]
  },
  {
   "cell_type": "code",
   "execution_count": 3,
   "metadata": {},
   "outputs": [
    {
     "data": {
      "text/plain": [
       "spark: org.apache.spark.sql.SparkSession = org.apache.spark.sql.SparkSession@44e45a5b\n"
      ]
     },
     "execution_count": 3,
     "metadata": {},
     "output_type": "execute_result"
    }
   ],
   "source": [
    "val spark = SparkSession.builder()\n",
    "  .appName(\"Music\")\n",
    "  .getOrCreate()"
   ]
  },
  {
   "attachments": {},
   "cell_type": "markdown",
   "metadata": {},
   "source": [
    "Загрузка датасета"
   ]
  },
  {
   "cell_type": "code",
   "execution_count": 6,
   "metadata": {},
   "outputs": [
    {
     "name": "stdout",
     "output_type": "stream",
     "text": [
      "+---+--------------------+----+---------------+-----------+-----------------+--------------------+-----------------+--------------------+------+--------------------+------------+----------------+--------------------+--------------------+---------+-------------+--------------+-------+----------+------------------+------------------+----+----+-------------------+-------------------+------------------+----------------+--------+-------------------+------------------+--------+---------+-------------+--------+-----+\n",
      "|_c0|                 uri|rank|   artist_names|artists_num|artist_individual|           artist_id|     artist_genre|          artist_img|collab|          track_name|release_date|album_num_tracks|         album_cover|              source|peak_rank|previous_rank|weeks_on_chart|streams|      week|      danceability|            energy| key|mode|           loudness|        speechiness|      acousticness|instrumentalness|liveness|            valence|             tempo|duration|  country|       region|language|pivot|\n",
      "+---+--------------------+----+---------------+-----------+-----------------+--------------------+-----------------+--------------------+------+--------------------+------------+----------------+--------------------+--------------------+---------+-------------+--------------+-------+----------+------------------+------------------+----+----+-------------------+-------------------+------------------+----------------+--------+-------------------+------------------+--------+---------+-------------+--------+-----+\n",
      "|  0|spotify:track:2gp...|   1|   Paulo Londra|        1.0|     Paulo Londra|spotify:artist:3v...|argentine hip hop|https://i.scdn.co...|     0|              Plan A|  2022-03-23|             1.0|https://i.scdn.co...|          WEA Latina|        1|            1|             4|3003411|2022-04-14|             0.583|0.8340000000000001| 0.0| 1.0|             -4.875|             0.0444|            0.0495|             0.0|  0.0658|              0.557|           173.935|178203.0|Argentina|South America| Spanish|    0|\n",
      "|  1|spotify:track:2x8...|   2|            WOS|        1.0|              WOS|spotify:artist:5Y...|  argentine indie|https://i.scdn.co...|     0|        ARRANCARMELO|  2022-04-06|             1.0|https://i.scdn.co...|DOGUITO Records /...|        2|          129|             2|2512175|2022-04-14|             0.654|             0.354| 5.0| 1.0|             -7.358|             0.0738|0.7240000000000001|             0.0|   0.134|              0.262|            81.956|183547.0|Argentina|South America| Spanish|    0|\n",
      "|  2|spotify:track:2SJ...|   3|   Paulo Londra|        1.0|     Paulo Londra|spotify:artist:3v...|argentine hip hop|https://i.scdn.co...|     0|              Chance|  2022-04-06|             2.0|https://i.scdn.co...|          WEA Latina|        3|           59|             2|2408983|2022-04-14|             0.721|             0.463| 1.0| 0.0|             -9.483|             0.0646|             0.241|             0.0|  0.0929|0.21600000000000005|           137.915|204003.0|Argentina|South America| Spanish|    0|\n",
      "|  3|spotify:track:1O2...|   5|        Cris Mj|        1.0|          Cris Mj|spotify:artist:1Y...|   urbano chileno|https://i.scdn.co...|     0|Una Noche en Mede...|  2022-01-21|             1.0|https://i.scdn.co...|   Nabru Records LLC|        5|            5|             8|2080139|2022-04-14|              0.87|0.5479999999999999|10.0| 0.0| -5.252999999999999|              0.077|            0.0924|         4.6e-05|  0.0534| 0.8320000000000001|            96.018|153750.0|Argentina|South America| Spanish|    0|\n",
      "|  4|spotify:track:1Tp...|   6|         Emilia|        1.0|           Emilia|spotify:artist:0A...|    pop argentino|https://i.scdn.co...|     0|       cuatro veinte|  2022-03-24|             1.0|https://i.scdn.co...|    Sony Music Latin|        6|            9|             3|1923270|2022-04-14|0.7609999999999999|             0.696| 7.0| 0.0|             -3.817|             0.0505|            0.0811|        6.25e-05|   0.101|              0.501|            95.066|133895.0|Argentina|South America| Spanish|    0|\n",
      "|  5|spotify:track:4LR...|  11|   Harry Styles|        1.0|     Harry Styles|spotify:artist:6K...|              pop|https://i.scdn.co...|     0|           As It Was|  2022-03-31|             1.0|https://i.scdn.co...|            Columbia|        6|            6|             2|1555631|2022-04-14|              0.52|             0.731| 6.0| 0.0| -5.337999999999999|             0.0557|             0.342|         0.00101|   0.311|              0.662|            173.93|167303.0|Argentina|South America| Spanish|    0|\n",
      "|  6|spotify:track:3Ec...|  17|      La K'onga|        1.0|        La K'onga|spotify:artist:3g...|         cuarteto|https://i.scdn.co...|     0|         Te Mentiría|  2021-12-09|            14.0|https://i.scdn.co...|        Leader Music|       14|           16|            47|1272870|2022-04-14|0.6509999999999999|             0.731| 7.0| 1.0|-6.8889999999999985|             0.0549|             0.116|             0.0|  0.0708|              0.653|153.10399999999996|218431.0|Argentina|South America| Spanish|    0|\n",
      "|  7|spotify:track:42G...|  20|  Maria Becerra|        1.0|    Maria Becerra|spotify:artist:1D...|    pop argentino|https://i.scdn.co...|     0|   Felices x Siempre|  2022-02-22|             1.0|https://i.scdn.co...|   300 Entertainment|       11|           15|             8|1149499|2022-04-14|0.7709999999999999|             0.467| 5.0| 0.0|             -6.653|              0.123|             0.375|         0.00974|   0.112|              0.256|           100.089|199657.0|Argentina|South America| Spanish|    0|\n",
      "|  8|spotify:track:3Fk...|  23|         Anitta|        1.0|           Anitta|spotify:artist:7F...|         funk pop|https://i.scdn.co...|     0|            Envolver|  2022-04-12|            15.0|https://i.scdn.co...|      Warner Records|       13|           17|             6|1104997|2022-04-14|             0.812|             0.736| 4.0| 0.0|             -5.421|             0.0833|             0.152|         0.00254|  0.0914|              0.396|            91.993|193806.0|Argentina|South America| Spanish|    0|\n",
      "|  9|spotify:track:5Us...|  24|     LIT killah|        1.0|       LIT killah|spotify:artist:1v...|argentine hip hop|https://i.scdn.co...|     0|    La Trampa es Ley|  2022-02-10|             1.0|https://i.scdn.co...|          WEA Latina|        2|           21|             9|1076236|2022-04-14|             0.596|              0.71| 6.0| 1.0|             -5.815|              0.136|             0.243|             0.0|   0.204|              0.632|           117.871|141864.0|Argentina|South America| Spanish|    0|\n",
      "| 10|spotify:track:7on...|  25|      La K'onga|        1.0|        La K'onga|spotify:artist:3g...|         cuarteto|https://i.scdn.co...|     0|       El Mismo Aire|  2020-11-13|            18.0|https://i.scdn.co...|Leader Music bajo...|       16|           25|            70|1058521|2022-04-14|             0.762|             0.748| 0.0| 0.0|             -6.273|             0.0407|            0.0746|             0.0|   0.128| 0.8220000000000001|           149.985|209415.0|Argentina|South America| Spanish|    0|\n",
      "| 11|spotify:track:1Ud...|  26|    Danny Ocean|        1.0|      Danny Ocean|spotify:artist:5H...|            latin|https://i.scdn.co...|     0|   Fuera del mercado|  2022-02-17|            16.0|https://i.scdn.co...|    Atlantic Records|       26|           49|             3|1029069|2022-04-14|             0.453|0.6729999999999999| 8.0| 1.0|             -5.649|0.14400000000000002|              0.32|             0.0|   0.131|              0.266|             92.06|159849.0|Argentina|South America| Spanish|    0|\n",
      "| 12|spotify:track:7JZ...|  27|           Duki|        1.0|             Duki|spotify:artist:1b...|argentine hip hop|https://i.scdn.co...|     0|               TOP 5|  2021-11-25|             7.0|https://i.scdn.co...|DALE PLAY Records...|        3|           23|            20|1004471|2022-04-14|             0.853|0.8240000000000001| 2.0| 1.0|             -3.384|              0.214|            0.0943|        2.68e-05|    0.11|              0.693|            100.05|146815.0|Argentina|South America| Spanish|    0|\n",
      "| 13|spotify:track:3Ga...|  32|     C. Tangana|        1.0|       C. Tangana|spotify:artist:5T...|   urbano espanol|https://i.scdn.co...|     0|  Demasiadas Mujeres|  2021-02-26|            14.0|https://i.scdn.co...|Sony Music Entert...|       31|           31|             9| 870219|2022-04-14|0.6579999999999999|             0.453| 9.0| 0.0| -7.377999999999999|               0.39|             0.131|          0.0002|  0.0848|              0.358|           126.043|153960.0|Argentina|South America| Spanish|    0|\n",
      "| 14|spotify:track:2cR...|  35|    Salastkbron|        1.0|      Salastkbron|spotify:artist:3W...|    pop argentino|https://i.scdn.co...|     0|               TITAN|  2021-10-14|             1.0|https://i.scdn.co...|        WM Argentina|        2|           29|            20| 838194|2022-04-14|             0.725|              0.49| 5.0| 0.0|             -9.487|              0.187|             0.341|             0.0|  0.0978|               0.96|           180.042|122137.0|Argentina|South America| Spanish|    0|\n",
      "| 15|spotify:track:1Pm...|  37|    Salastkbron|        1.0|      Salastkbron|spotify:artist:3W...|    pop argentino|https://i.scdn.co...|     0|        TURROMANTIKO|  2022-01-12|             1.0|https://i.scdn.co...|        WM Argentina|       28|           33|            11| 819773|2022-04-14|             0.795|              0.58| 7.0| 1.0|             -6.443|              0.132|             0.338|             0.0|   0.163|              0.657|            90.099|131000.0|Argentina|South America| Spanish|    0|\n",
      "| 16|spotify:track:1kj...|  38|         Trueno|        1.0|           Trueno|spotify:artist:2x...|argentine hip hop|https://i.scdn.co...|     0|          DANCE CRIP|  2021-11-17|             1.0|https://i.scdn.co...|©️ Ⓟ 2022 Sur Cap...|        3|           36|            21| 814714|2022-04-14|             0.857|0.7659999999999999| 0.0| 1.0|             -3.699|             0.0978|             0.108|             0.0|  0.0817| 0.8640000000000001|           106.024|165019.0|Argentina|South America| Spanish|    0|\n",
      "| 17|spotify:track:6yl...|  39|Sebastian Yatra|        1.0|  Sebastian Yatra|spotify:artist:07...|            latin|https://i.scdn.co...|     0|       Tacones Rojos|  2022-01-28|            17.0|https://i.scdn.co...|       UMLE - Latino|       21|           38|            25| 805602|2022-04-14|             0.746|0.8440000000000001|11.0| 0.0|             -3.499|             0.0359|             0.062|             0.0|   0.149|              0.934|           123.014|189333.0|Argentina|South America| Spanish|    0|\n",
      "| 18|spotify:track:1fK...|  40|  Ke Personajes|        1.0|    Ke Personajes|spotify:artist:06...|                0|https://i.scdn.co...|     0|Si No Te Tengo / ...|  2021-08-17|             1.0|https://i.scdn.co...|       Ke Personajes|       29|           37|            31| 803350|2022-04-14|             0.419|             0.711|11.0| 0.0|             -4.083|             0.0488|            0.0513|             0.0|   0.243|              0.529|             82.18|428439.0|Argentina|South America| Spanish|    0|\n",
      "| 19|spotify:track:74a...|  41|      Tiago PZK|        1.0|        Tiago PZK|spotify:artist:5Y...|   trap argentino|https://i.scdn.co...|     0|    Hablando De Love|  2022-03-17|             1.0|https://i.scdn.co...|          WEA Latina|       29|           34|             4| 786293|2022-04-14|0.6579999999999999|             0.892| 7.0| 0.0|             -4.646|              0.146|             0.459|             0.0|   0.101|              0.413|            91.032|156090.0|Argentina|South America| Spanish|    0|\n",
      "+---+--------------------+----+---------------+-----------+-----------------+--------------------+-----------------+--------------------+------+--------------------+------------+----------------+--------------------+--------------------+---------+-------------+--------------+-------+----------+------------------+------------------+----+----+-------------------+-------------------+------------------+----------------+--------+-------------------+------------------+--------+---------+-------------+--------+-----+\n",
      "only showing top 20 rows\n",
      "\n"
     ]
    },
    {
     "data": {
      "text/plain": [
       "df: org.apache.spark.sql.DataFrame = [_c0: string, uri: string ... 34 more fields]\n"
      ]
     },
     "execution_count": 6,
     "metadata": {},
     "output_type": "execute_result"
    }
   ],
   "source": [
    "val df = spark.read\n",
    "  .format(\"csv\")\n",
    "  .option(\"header\", \"true\")\n",
    "  .load(\"final.csv\") \n",
    "\n",
    "df.show()"
   ]
  },
  {
   "attachments": {},
   "cell_type": "markdown",
   "metadata": {},
   "source": [
    "Top-10 artists by total streams."
   ]
  },
  {
   "cell_type": "code",
   "execution_count": 8,
   "metadata": {},
   "outputs": [
    {
     "name": "stdout",
     "output_type": "stream",
     "text": [
      "+--------------------+---------------+\n",
      "|        artist_names|  total_streams|\n",
      "+--------------------+---------------+\n",
      "|          Ed Sheeran| 1.364386947E10|\n",
      "|      Olivia Rodrigo|1.1741091136E10|\n",
      "|           Bad Bunny|1.0379978355E10|\n",
      "|       Billie Eilish|  9.870341236E9|\n",
      "|          The Weeknd|  9.485489222E9|\n",
      "|        Harry Styles|  9.124389514E9|\n",
      "|       Ariana Grande|  8.190436653E9|\n",
      "|               Drake|  7.812727326E9|\n",
      "|The Kid LAROI, Ju...|   7.35161562E9|\n",
      "|         Post Malone|  7.283596733E9|\n",
      "+--------------------+---------------+\n",
      "\n"
     ]
    }
   ],
   "source": [
    "df.select(\"artist_names\", \"track_name\", \"streams\")\n",
    "  .groupBy(\"artist_names\")\n",
    "  .agg(sum(\"streams\").alias(\"total_streams\"))\n",
    "  .orderBy(desc(\"total_streams\"))\n",
    "  .limit(10)\n",
    "  .show()"
   ]
  },
  {
   "attachments": {},
   "cell_type": "markdown",
   "metadata": {},
   "source": [
    "Top 5 songs with the highest number of weeks on the charts globally"
   ]
  },
  {
   "cell_type": "code",
   "execution_count": 10,
   "metadata": {},
   "outputs": [
    {
     "name": "stdout",
     "output_type": "stream",
     "text": [
      "+--------------------+-------------------+--------------+\n",
      "|          track_name|       artist_names|weeks_on_chart|\n",
      "+--------------------+-------------------+--------------+\n",
      "|          High Hopes|Panic! At The Disco|            99|\n",
      "|when the party's ...|      Billie Eilish|            99|\n",
      "|      Mr. Brightside|        The Killers|            99|\n",
      "|             Heather|         Conan Gray|            99|\n",
      "|          goosebumps|       Travis Scott|            99|\n",
      "+--------------------+-------------------+--------------+\n",
      "\n"
     ]
    }
   ],
   "source": [
    "df.filter(col(\"country\") === \"Global\")\n",
    "  .orderBy(desc(\"weeks_on_chart\"))\n",
    "  .select(\"track_name\", \"artist_names\", \"weeks_on_chart\")\n",
    "  .limit(5)\n",
    "  .show()"
   ]
  },
  {
   "attachments": {},
   "cell_type": "markdown",
   "metadata": {},
   "source": [
    "The average danceability, energy, and valence of songs released in 2022"
   ]
  },
  {
   "cell_type": "code",
   "execution_count": 11,
   "metadata": {},
   "outputs": [
    {
     "name": "stdout",
     "output_type": "stream",
     "text": [
      "+------------------+------------------+------------------+\n",
      "|  avg_danceability|        avg_energy|       avg_valence|\n",
      "+------------------+------------------+------------------+\n",
      "|0.7109250632167036|0.6633135773008008|0.5631852331667105|\n",
      "+------------------+------------------+------------------+\n",
      "\n"
     ]
    }
   ],
   "source": [
    "df.filter(year(col(\"release_date\")) === 2022)\n",
    "  .agg(avg(\"danceability\").alias(\"avg_danceability\"),\n",
    "       avg(\"energy\").alias(\"avg_energy\"),\n",
    "       avg(\"valence\").alias(\"avg_valence\"))\n",
    "       .show()"
   ]
  },
  {
   "attachments": {},
   "cell_type": "markdown",
   "metadata": {},
   "source": [
    "Top 10 artists with the highest average streams per week"
   ]
  },
  {
   "cell_type": "code",
   "execution_count": 12,
   "metadata": {},
   "outputs": [
    {
     "name": "stdout",
     "output_type": "stream",
     "text": [
      "+--------------------+--------------------+\n",
      "|        artist_names|         avg_streams|\n",
      "+--------------------+--------------------+\n",
      "|StaySolidRocky, L...|        1.75541045E7|\n",
      "|Luis Fonsi, Daddy...|   1.7091451234375E7|\n",
      "|Anuel AA, Daddy Y...|1.4687811955555556E7|\n",
      "|Taylor Swift, The...|         1.4385703E7|\n",
      "| Nicky Jam, J Balvin|1.4219319205882354E7|\n",
      "|DJ Khaled, Justin...|1.4134057901960785E7|\n",
      "|Lil Nas X, Billy ...| 1.366073164864865E7|\n",
      "|DJ Khaled, Justin...| 1.362010794736842E7|\n",
      "|Drake, Michael Ja...|     1.34909444375E7|\n",
      "|6ix9ine, Nicki Mi...|        1.34590289E7|\n",
      "+--------------------+--------------------+\n",
      "\n"
     ]
    }
   ],
   "source": [
    "df.groupBy(\"artist_names\")\n",
    "  .agg(avg(\"streams\").alias(\"avg_streams\"))\n",
    "  .orderBy(desc(\"avg_streams\"))\n",
    "  .limit(10)\n",
    "  .show()"
   ]
  },
  {
   "attachments": {},
   "cell_type": "markdown",
   "metadata": {},
   "source": [
    "The most common genres among artists in the dataset"
   ]
  },
  {
   "cell_type": "code",
   "execution_count": 21,
   "metadata": {},
   "outputs": [
    {
     "name": "stdout",
     "output_type": "stream",
     "text": [
      "+--------------------+------+\n",
      "|        artist_genre| count|\n",
      "+--------------------+------+\n",
      "|                 pop|156910|\n",
      "|                   0|114293|\n",
      "|         trap latino| 86138|\n",
      "|           reggaeton| 73498|\n",
      "|               latin| 73176|\n",
      "|           dance pop| 49390|\n",
      "|                 rap| 31621|\n",
      "|              uk pop| 27131|\n",
      "|        canadian pop| 20416|\n",
      "|               k-pop| 19415|\n",
      "|reggaeton colombiano| 19321|\n",
      "|           latin pop| 16922|\n",
      "|      reggaeton flow| 16003|\n",
      "|             hip hop| 15572|\n",
      "|       latin hip hop| 14813|\n",
      "|             pop rap| 14719|\n",
      "|                trap| 14044|\n",
      "|      trap argentino| 13080|\n",
      "|      german hip hop| 12529|\n",
      "|           pop dance| 12021|\n",
      "+--------------------+------+\n",
      "only showing top 20 rows\n",
      "\n"
     ]
    }
   ],
   "source": [
    "df.groupBy(\"artist_genre\")\n",
    "  .count()\n",
    "  .orderBy(desc(\"count\"))\n",
    "  .show()"
   ]
  },
  {
   "attachments": {},
   "cell_type": "markdown",
   "metadata": {},
   "source": [
    "The average number of streams per week for each country"
   ]
  },
  {
   "cell_type": "code",
   "execution_count": 22,
   "metadata": {},
   "outputs": [
    {
     "name": "stdout",
     "output_type": "stream",
     "text": [
      "+--------------+--------------------+\n",
      "|       country|avg_streams_per_week|\n",
      "+--------------+--------------------+\n",
      "|        Global|    8590443.78178008|\n",
      "| United States|  2612468.3299010973|\n",
      "|        Brazil|  1541791.7800724516|\n",
      "|        Mexico|  1317617.0092200846|\n",
      "|       Germany|    784578.343812709|\n",
      "|         Spain|    713261.081671159|\n",
      "|         India|   709459.8710540024|\n",
      "|United Kingdom|   696611.6486762615|\n",
      "|         Italy|   624623.5501046622|\n",
      "|        France|   584984.9326468467|\n",
      "|     Argentina|   547315.6179943004|\n",
      "|     Indonesia|   542640.4211397746|\n",
      "|        Turkey|  502700.14107988315|\n",
      "|         Chile|   456507.3099201683|\n",
      "|   Philippines|  455304.44186168537|\n",
      "|         Japan|   437043.5067144136|\n",
      "|     Australia|  394437.60274980456|\n",
      "|        Canada|   385216.4609696333|\n",
      "|   Netherlands|   369540.7430649392|\n",
      "|        Poland|   356572.3758571201|\n",
      "+--------------+--------------------+\n",
      "only showing top 20 rows\n",
      "\n"
     ]
    }
   ],
   "source": [
    "df.groupBy(\"country\")\n",
    "  .agg(avg(\"streams\").alias(\"avg_streams_per_week\"))\n",
    "  .orderBy(desc(\"avg_streams_per_week\"))\n",
    "  .show()"
   ]
  },
  {
   "attachments": {},
   "cell_type": "markdown",
   "metadata": {},
   "source": [
    "Total number of unique artists in each region"
   ]
  },
  {
   "cell_type": "code",
   "execution_count": 24,
   "metadata": {},
   "outputs": [
    {
     "name": "stdout",
     "output_type": "stream",
     "text": [
      "+---------------+--------------+\n",
      "|         region|unique_artists|\n",
      "+---------------+--------------+\n",
      "|         Europe|         11085|\n",
      "|           Asia|          3587|\n",
      "|         Global|          2500|\n",
      "|  South America|          2051|\n",
      "|    Middle East|          2030|\n",
      "|         Africa|          1796|\n",
      "|  North America|          1502|\n",
      "|Central America|           975|\n",
      "|        Oceania|           812|\n",
      "|      Caribbean|           663|\n",
      "|        Ukraine|             2|\n",
      "|       Paraguay|             1|\n",
      "|           0.11|             1|\n",
      "|         Taiwan|             1|\n",
      "|         207394|             1|\n",
      "|  United States|             1|\n",
      "|         region|             1|\n",
      "|         Mexico|             1|\n",
      "|      Guatemala|             1|\n",
      "|       Honduras|             1|\n",
      "+---------------+--------------+\n",
      "only showing top 20 rows\n",
      "\n"
     ]
    }
   ],
   "source": [
    "df.groupBy(\"region\")\n",
    "  .agg(countDistinct(\"artist_names\").alias(\"unique_artists\"))\n",
    "  .orderBy(desc(\"unique_artists\"))\n",
    "  .show()"
   ]
  },
  {
   "attachments": {},
   "cell_type": "markdown",
   "metadata": {},
   "source": [
    "The average duration of songs in each language"
   ]
  },
  {
   "cell_type": "code",
   "execution_count": 31,
   "metadata": {},
   "outputs": [
    {
     "name": "stdout",
     "output_type": "stream",
     "text": [
      "+----------+------------------+\n",
      "|  language|      avg_duration|\n",
      "+----------+------------------+\n",
      "|      Zulu| 277846.9191161834|\n",
      "|  Japanese|236926.38478066248|\n",
      "|  Mandarin|229092.00780014182|\n",
      "|   Spanish| 229090.1674511652|\n",
      "| Cantonese| 225446.2013226366|\n",
      "|Indonesian|223818.99283614007|\n",
      "|   Tagalog|223522.45890338876|\n",
      "|Vietnamese|222888.56846780164|\n",
      "|     Hindi|222448.41670428895|\n",
      "|Portuguese| 220139.6228857533|\n",
      "|      Urdu|219468.59743918054|\n",
      "|      Thai|216450.96938240537|\n",
      "|    Global|211137.86207397297|\n",
      "|    Korean|209461.11974094732|\n",
      "| Icelandic|205727.16012183693|\n",
      "|   English|205184.59067171466|\n",
      "|     Malay|204851.87832109997|\n",
      "|    Arabic|204682.33773191096|\n",
      "|    French|203644.29232546827|\n",
      "|    Hebrew|202510.22794735368|\n",
      "+----------+------------------+\n",
      "only showing top 20 rows\n",
      "\n"
     ]
    }
   ],
   "source": [
    "df.groupBy(\"language\")\n",
    "  .agg(avg(\"duration\").alias(\"avg_duration\"))\n",
    "  .orderBy(desc(\"avg_duration\"))\n",
    "  .show()"
   ]
  },
  {
   "attachments": {},
   "cell_type": "markdown",
   "metadata": {},
   "source": [
    "The most common source (record label) of songs in the dataset"
   ]
  },
  {
   "cell_type": "code",
   "execution_count": 32,
   "metadata": {},
   "outputs": [
    {
     "name": "stdout",
     "output_type": "stream",
     "text": [
      "+--------------------+-----+\n",
      "|              source|count|\n",
      "+--------------------+-----+\n",
      "|            Columbia|79751|\n",
      "|Rimas Entertainme...|59518|\n",
      "|    Sony Music Latin|49662|\n",
      "|    Republic Records|40146|\n",
      "| Atlantic Records UK|32368|\n",
      "|    Atlantic Records|27894|\n",
      "|       UMLE - Latino|24925|\n",
      "|          WEA Latina|23544|\n",
      "|      Warner Records|23409|\n",
      "|Sony Music Entert...|22119|\n",
      "|Kemosabe Records/...|21062|\n",
      "|   RCA Records Label|20477|\n",
      "|          Rich Music|18672|\n",
      "|        RBMG/Def Jam|18278|\n",
      "|   Olivia Rodrigo PS|16626|\n",
      "|                 OVO|12814|\n",
      "|Sony Music Latin/...|12369|\n",
      "|     Polydor Records|12184|\n",
      "|Ministry of Sound...|11942|\n",
      "|                 EMI|11259|\n",
      "+--------------------+-----+\n",
      "only showing top 20 rows\n",
      "\n"
     ]
    }
   ],
   "source": [
    "df.groupBy(\"source\")\n",
    "  .count()\n",
    "  .orderBy(desc(\"count\"))\n",
    "  .show()"
   ]
  },
  {
   "attachments": {},
   "cell_type": "markdown",
   "metadata": {},
   "source": [
    "Top 10 artists with the highest number of collaborations"
   ]
  },
  {
   "cell_type": "code",
   "execution_count": 38,
   "metadata": {},
   "outputs": [
    {
     "name": "stdout",
     "output_type": "stream",
     "text": [
      "+--------------------+--------------+\n",
      "|        artist_names|collaborations|\n",
      "+--------------------+--------------+\n",
      "|          Ego, Coder|            20|\n",
      "|       Bedoes, Lanek|            15|\n",
      "|Marília Mendonça,...|            15|\n",
      "|Big Baby Tape, ki...|            14|\n",
      "|Kaaris, Kalash Cr...|            14|\n",
      "|Benny Jamz, Gilli...|            12|\n",
      "|      Azahriah, DESH|            12|\n",
      "|     Anuel AA, Ozuna|            12|\n",
      "|AKC Misi, AKC Kretta|            11|\n",
      "|       Stormy, Tagne|            11|\n",
      "+--------------------+--------------+\n",
      "\n"
     ]
    }
   ],
   "source": [
    "df.filter(col(\"collab\") === 1)\n",
    "  .groupBy(\"artist_names\")\n",
    "  .agg(countDistinct(\"track_name\").alias(\"collaborations\"))\n",
    "  .orderBy(desc(\"collaborations\"))\n",
    "  .limit(10)\n",
    "  .show()"
   ]
  },
  {
   "cell_type": "code",
   "execution_count": 39,
   "metadata": {},
   "outputs": [],
   "source": [
    "spark.stop()"
   ]
  }
 ],
 "metadata": {
  "kernelspec": {
   "display_name": "spylon-kernel",
   "language": "scala",
   "name": "spylon-kernel"
  },
  "language_info": {
   "codemirror_mode": "text/x-scala",
   "file_extension": ".scala",
   "help_links": [
    {
     "text": "MetaKernel Magics",
     "url": "https://metakernel.readthedocs.io/en/latest/source/README.html"
    }
   ],
   "mimetype": "text/x-scala",
   "name": "scala",
   "pygments_lexer": "scala",
   "version": "0.4.1"
  },
  "orig_nbformat": 4
 },
 "nbformat": 4,
 "nbformat_minor": 2
}
